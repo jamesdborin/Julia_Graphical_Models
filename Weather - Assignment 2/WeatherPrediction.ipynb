{
 "cells": [
  {
   "cell_type": "code",
   "execution_count": 4,
   "metadata": {},
   "outputs": [
    {
     "name": "stdout",
     "output_type": "stream",
     "text": [
      "[0.30861723446893785, 0.5110220440881763, 0.18036072144288579]"
     ]
    }
   ],
   "source": [
    "using CSV\n",
    "data = CSV.File(\"./meteo0.csv\")\n",
    "\n",
    "N = 499\n",
    "T = 100\n",
    "\n",
    "initial_dist = Int64[0,0,0]\n",
    "\n",
    "for n = 1:N\n",
    "    initial_dist[(data[n][1] + 1)] += 1\n",
    "end\n",
    "\n",
    "initial_dist = initial_dist / sum(initial_dist)\n",
    "\n",
    "print(initial_dist)"
   ]
  },
  {
   "cell_type": "code",
   "execution_count": 34,
   "metadata": {},
   "outputs": [],
   "source": [
    "transition_dist = zeros(T-1, 3,3)\n",
    "\n",
    "for n = 1:N\n",
    "    for t = 1:(T-1)\n",
    "        w_b = data[n][t]\n",
    "        w_a = data[n][t+1]\n",
    "        transition_dist[t, w_b+1, w_a+1] += 1\n",
    "    end\n",
    "end\n",
    "\n",
    "for t = 1:(T-1)\n",
    "    for x = 1:3\n",
    "    total = sum(transition_dist[t,x,:]) \n",
    "    transition_dist[t,x,:] = transition_dist[t,x,:] / total\n",
    "    end\n",
    "end\n",
    "\n",
    "# Parameters Aⁱⱼₖ = transition_dist[i,j,k]"
   ]
  },
  {
   "cell_type": "code",
   "execution_count": null,
   "metadata": {},
   "outputs": [],
   "source": []
  },
  {
   "cell_type": "code",
   "execution_count": null,
   "metadata": {},
   "outputs": [],
   "source": []
  }
 ],
 "metadata": {
  "kernelspec": {
   "display_name": "Julia 1.5.3",
   "language": "julia",
   "name": "julia-1.5"
  },
  "language_info": {
   "file_extension": ".jl",
   "mimetype": "application/julia",
   "name": "julia",
   "version": "1.5.3"
  }
 },
 "nbformat": 4,
 "nbformat_minor": 4
}
